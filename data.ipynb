{
 "cells": [
  {
   "cell_type": "code",
   "execution_count": 3,
   "metadata": {},
   "outputs": [
    {
     "name": "stdout",
     "output_type": "stream",
     "text": [
      "PyTorch 版本: 2.6.0+cu124\n",
      "CUDA 版本: 12.4\n",
      "使用的 GPU 设备: NVIDIA GeForce RTX 2070 SUPER\n"
     ]
    }
   ],
   "source": [
    "import torch\n",
    "\n",
    "# 查看 PyTorch 版本\n",
    "print(f\"PyTorch 版本: {torch.__version__}\")\n",
    "\n",
    "# 查看 CUDA 版本\n",
    "print(f\"CUDA 版本: {torch.version.cuda}\")\n",
    "\n",
    "# 检查是否有可用的 CUDA 设备\n",
    "if torch.cuda.is_available():\n",
    "    print(f\"使用的 GPU 设备: {torch.cuda.get_device_name(0)}\")\n",
    "else:\n",
    "    print(\"没有可用的 CUDA 设备，使用 CPU。\")"
   ]
  },
  {
   "cell_type": "code",
   "execution_count": null,
   "metadata": {},
   "outputs": [],
   "source": [
    "import torchvision.datasets as datasets\n",
    "import matplotlib.pyplot as plt\n",
    "\n",
    "# 下载 MNIST 数据集（不进行任何转换）\n",
    "mnist_train = datasets.MNIST(root='./data', train=True, download=True)\n",
    "mnist_test = datasets.MNIST(root='./data', train=False, download=True)\n",
    "\n",
    "# 查看训练集和测试集的大小\n",
    "print(f\"Number of training samples: {len(mnist_train)}\")\n",
    "print(f\"Number of test samples: {len(mnist_test)}\")\n",
    "\n",
    "# 示例：打开并显示一张图像\n",
    "image, label = mnist_train[0]  # 获取训练集中的第一张图像和对应的标签\n",
    "print(f\"Label: {label}\")\n",
    "plt.imshow(image, cmap='gray')\n",
    "plt.show()"
   ]
  },
  {
   "cell_type": "code",
   "execution_count": null,
   "metadata": {},
   "outputs": [],
   "source": []
  },
  {
   "cell_type": "code",
   "execution_count": null,
   "metadata": {},
   "outputs": [],
   "source": []
  },
  {
   "cell_type": "code",
   "execution_count": null,
   "metadata": {},
   "outputs": [],
   "source": []
  },
  {
   "cell_type": "code",
   "execution_count": null,
   "metadata": {},
   "outputs": [],
   "source": []
  },
  {
   "cell_type": "code",
   "execution_count": null,
   "metadata": {},
   "outputs": [],
   "source": []
  },
  {
   "cell_type": "code",
   "execution_count": null,
   "metadata": {},
   "outputs": [],
   "source": []
  },
  {
   "cell_type": "code",
   "execution_count": null,
   "metadata": {},
   "outputs": [],
   "source": []
  }
 ],
 "metadata": {
  "kernelspec": {
   "display_name": "DeepLearningFromScratch",
   "language": "python",
   "name": "python3"
  },
  "language_info": {
   "codemirror_mode": {
    "name": "ipython",
    "version": 3
   },
   "file_extension": ".py",
   "mimetype": "text/x-python",
   "name": "python",
   "nbconvert_exporter": "python",
   "pygments_lexer": "ipython3",
   "version": "3.9.21"
  }
 },
 "nbformat": 4,
 "nbformat_minor": 2
}
