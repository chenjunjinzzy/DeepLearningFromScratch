{
 "cells": [
  {
   "cell_type": "markdown",
   "metadata": {},
   "source": [
    "# 4.2 损失函数"
   ]
  },
  {
   "cell_type": "markdown",
   "metadata": {},
   "source": [
    "## 4.2.1 均方误差 $$E=\\frac{1}{2}\\sum_{k}\\left(y_{k}-t_{k}\\right)^{2}$$\n",
    "  ="
   ]
  },
  {
   "cell_type": "code",
   "execution_count": 1,
   "metadata": {},
   "outputs": [],
   "source": [
    "import numpy as np\n",
    "import matplotlib.pyplot as plt"
   ]
  },
  {
   "cell_type": "code",
   "execution_count": 2,
   "metadata": {},
   "outputs": [],
   "source": [
    "def mean_squared_error(y, t):\n",
    "    return 0.5 * np.sum((y-t)**2)"
   ]
  },
  {
   "cell_type": "code",
   "execution_count": null,
   "metadata": {},
   "outputs": [],
   "source": []
  },
  {
   "cell_type": "code",
   "execution_count": 3,
   "metadata": {},
   "outputs": [],
   "source": [
    "t =np.array([0, 0, 1, 0, 0, 0, 0, 0, 0, 0]) \n"
   ]
  },
  {
   "cell_type": "code",
   "execution_count": 4,
   "metadata": {},
   "outputs": [
    {
     "data": {
      "text/plain": [
       "0.09750000000000003"
      ]
     },
     "execution_count": 4,
     "metadata": {},
     "output_type": "execute_result"
    }
   ],
   "source": [
    "y = np.array([0.1, 0.05, 0.6, 0.0, 0.05, 0.1, 0.0, 0.1, 0.0, 0.0])\n",
    "mean_squared_error(y, t)"
   ]
  },
  {
   "cell_type": "code",
   "execution_count": 5,
   "metadata": {},
   "outputs": [
    {
     "data": {
      "text/plain": [
       "0.5975"
      ]
     },
     "execution_count": 5,
     "metadata": {},
     "output_type": "execute_result"
    }
   ],
   "source": [
    "y = np.array([0.1, 0.05, 0.1, 0.0, 0.05, 0.1, 0.0, 0.6, 0.0, 0.0])\n",
    "mean_squared_error(y, t)"
   ]
  },
  {
   "cell_type": "markdown",
   "metadata": {},
   "source": [
    "## 4.2.2 交叉熵误差$$E=-\\sum_kt_k\\log y_k$$"
   ]
  },
  {
   "cell_type": "code",
   "execution_count": null,
   "metadata": {},
   "outputs": [],
   "source": [
    "x = np.arange(0.01, 1, 0.01)\n",
    "y = np.log(x)\n",
    "y"
   ]
  },
  {
   "cell_type": "code",
   "execution_count": null,
   "metadata": {},
   "outputs": [],
   "source": [
    "plt.plot(x, y)"
   ]
  },
  {
   "cell_type": "code",
   "execution_count": null,
   "metadata": {},
   "outputs": [],
   "source": [
    "def cross_entropy_error(y, t):\n",
    "    delta = 1e-7\n",
    "    return -np.sum(t * np.log(y + delta))"
   ]
  },
  {
   "cell_type": "code",
   "execution_count": null,
   "metadata": {},
   "outputs": [],
   "source": [
    "t = np.array([0, 0, 1, 0, 0, 0, 0, 0, 0, 0])\n",
    "y = np.array([0.1, 0.05, 0.6, 0.0, 0.05, 0.1, 0.0, 0.1, 0.0, 0.0])\n",
    "cross_entropy_error(y, t)"
   ]
  },
  {
   "cell_type": "code",
   "execution_count": null,
   "metadata": {},
   "outputs": [],
   "source": [
    "y = np.array([0.1, 0.05, 0.1, 0.0, 0.05, 0.1, 0.0, 0.6, 0.0, 0.0])\n",
    "cross_entropy_error(y, t)"
   ]
  },
  {
   "cell_type": "markdown",
   "metadata": {},
   "source": [
    "## 4.2.3 mini-bath学习"
   ]
  },
  {
   "cell_type": "code",
   "execution_count": null,
   "metadata": {},
   "outputs": [],
   "source": [
    "\"\"\" import torch\n",
    "from torchvision import datasets, transforms\n",
    "from torch.utils.data import DataLoader\n",
    "import torch.nn.functional as F\n",
    "\n",
    "# 定义数据转换\n",
    "transform = transforms.Compose([\n",
    "    transforms.ToTensor(),  # 将图像转换为张量，并归一化到 [0, 1] 范围内\n",
    "    transforms.Normalize((0.5,), (0.5,))  # 进一步归一化到 [-1, 1] 范围内\n",
    "])\n",
    "\n",
    "# 下载并加载 MNIST 训练集\n",
    "trainset = datasets.MNIST(root='./data', train=True, download=True, transform=transform)\n",
    "print(trainset)\n",
    "trainloader = DataLoader(trainset, batch_size=60000, shuffle=True)\n",
    "\n",
    "# 下载并加载 MNIST 测试集\n",
    "testset = datasets.MNIST(root='./data', train=False, download=True, transform=transform)\n",
    "testloader = DataLoader(testset, batch_size=10000, shuffle=False)\n",
    "\n",
    "# 查看训练集和测试集的大小\n",
    "print(\"Number of training images:\", len(trainset))\n",
    "print(\"Number of test images:\", len(testset))\n",
    "\n",
    "# 获取整个训练集的数据\n",
    "train_iter = iter(trainloader)\n",
    "x_train, t_train = next(train_iter)\n",
    "\n",
    "# 获取整个测试集的数据\n",
    "test_iter = iter(testloader)\n",
    "x_test, t_test = next(test_iter)\n",
    "\n",
    "# 将训练集和测试集的标签转换为 one-hot 编码\n",
    "num_classes = 10\n",
    "t_train_one_hot = F.one_hot(t_train, num_classes)\n",
    "t_test_one_hot = F.one_hot(t_test, num_classes)\n",
    "\n",
    "# 打印数据的形状\n",
    "print(\"x_train shape:\", x_train.shape)  # (60000, 1, 28, 28)\n",
    "print(\"t_train shape:\", t_train_one_hot.shape)  # (60000, 10)\n",
    "print(\"x_test shape:\", x_test.shape)  # (10000, 1, 28, 28)\n",
    "print(\"t_test shape:\", t_test_one_hot.shape)  # (10000, 10)\n",
    "\n",
    "# 如果需要将图像展平成 (60000, 784) 的形状\n",
    "x_train_flat = x_train.view(x_train.size(0), -1)\n",
    "x_test_flat = x_test.view(x_test.size(0), -1)\n",
    "\n",
    "print(\"x_train_flat shape:\", x_train_flat.shape)  # (60000, 784)\n",
    "print(\"x_test_flat shape:\", x_test_flat.shape)  # (10000, 784) \"\"\""
   ]
  },
  {
   "cell_type": "code",
   "execution_count": null,
   "metadata": {},
   "outputs": [],
   "source": [
    "\"\"\" a = np.arange(3)\n",
    "y = np.array([[0.1, 0.2, 0.7],[0.3, 0.4, 0.3],[0.1, 0.5, 0.4]])\n",
    "t = np.array([[1,2,0]])\n",
    "t[0,0] \"\"\""
   ]
  },
  {
   "cell_type": "code",
   "execution_count": null,
   "metadata": {},
   "outputs": [],
   "source": [
    "\"\"\" a  \"\"\""
   ]
  },
  {
   "cell_type": "code",
   "execution_count": null,
   "metadata": {},
   "outputs": [],
   "source": [
    "\"\"\" y[a, t] \"\"\""
   ]
  },
  {
   "cell_type": "code",
   "execution_count": null,
   "metadata": {},
   "outputs": [],
   "source": [
    "\"\"\" import numpy as np\n",
    "\n",
    "# 真实标签 (整数标签)\n",
    "t = np.array([2, 1, 0])  # 第一个样本的真实标签是 2，第二个样本的真实标签是 1，第三个样本的真实标签是 0\n",
    "\n",
    "# 预测值 (概率分布)\n",
    "y = np.array([\n",
    "    [0.1, 0.2, 0.7],  # 第一个样本的预测值\n",
    "    [0.3, 0.6, 0.1],  # 第二个样本的预测值\n",
    "    [0.8, 0.1, 0.1]   # 第三个样本的预测值\n",
    "])\n",
    "\n",
    "# 批次大小\n",
    "batch_size = y.shape[0]\n",
    "\n",
    "# 使用高级索引提取对应真实标签的预测概率\n",
    "predicted_probabilities = y[np.arange(batch_size), t]\n",
    "\n",
    "print(\"Predicted probabilities:\", predicted_probabilities) \"\"\""
   ]
  },
  {
   "cell_type": "code",
   "execution_count": null,
   "metadata": {},
   "outputs": [],
   "source": [
    "\"\"\" x = torch.ones(2, 2, requires_grad=True)\n",
    "print(x)\n",
    "\n",
    "y = x + 2\n",
    "print(y)\n",
    "\n",
    "z = y * y * 3\n",
    "print(z)\n",
    "out = z.mean()\n",
    "print(out)\n",
    "\n",
    "# 反向传播\n",
    "out.backward()\n",
    "print(x.grad) \"\"\""
   ]
  },
  {
   "cell_type": "code",
   "execution_count": null,
   "metadata": {},
   "outputs": [],
   "source": [
    "\"\"\" x = torch.tensor([[1.0, 2.0, 3.0], [4.0, 5.0, 6.0]], requires_grad=True)\n",
    "y = x**2 \"\"\""
   ]
  },
  {
   "cell_type": "code",
   "execution_count": null,
   "metadata": {},
   "outputs": [],
   "source": [
    "\"\"\" y.sum().backward()\n",
    "x.grad\n",
    " \"\"\"\n"
   ]
  },
  {
   "cell_type": "markdown",
   "metadata": {},
   "source": [
    "# 4.3 数值微分"
   ]
  },
  {
   "cell_type": "markdown",
   "metadata": {},
   "source": [
    "## 4.3.2 数值微分的例子$$ y = 0.01x^2 +0.1x $$"
   ]
  },
  {
   "cell_type": "code",
   "execution_count": null,
   "metadata": {},
   "outputs": [],
   "source": [
    "def function_1(x):\n",
    "    return 0.01*x**2 + 0.1*x"
   ]
  },
  {
   "cell_type": "code",
   "execution_count": null,
   "metadata": {},
   "outputs": [],
   "source": [
    "import numpy as np\n",
    "import matplotlib.pyplot as plt"
   ]
  },
  {
   "cell_type": "code",
   "execution_count": null,
   "metadata": {},
   "outputs": [],
   "source": [
    "x = np.arange(0.0, 20.0, 0.1)\n",
    "y = function_1(x)\n",
    "plt.plot(x, y)\n",
    "plt.xlabel('x')\n",
    "plt.ylabel('f(x)')\n",
    "plt.show()"
   ]
  },
  {
   "cell_type": "code",
   "execution_count": null,
   "metadata": {},
   "outputs": [],
   "source": [
    "def numerical_diff(f, x):\n",
    "    h = 1e-4\n",
    "    return (f(x+h) - f(x-h)) / (2*h)"
   ]
  },
  {
   "cell_type": "code",
   "execution_count": null,
   "metadata": {},
   "outputs": [],
   "source": [
    "numerical_diff(function_1, 5)"
   ]
  },
  {
   "cell_type": "code",
   "execution_count": null,
   "metadata": {},
   "outputs": [],
   "source": [
    "numerical_diff(function_1, 10)"
   ]
  },
  {
   "cell_type": "code",
   "execution_count": null,
   "metadata": {},
   "outputs": [],
   "source": [
    "x = np.arange(0.0, 20.0, 0.1)\n",
    "y1 = numerical_diff(function_1, 5) * x - 0.25\n",
    "y = function_1(x)\n",
    "plt.plot(x, y, label = 'quxian')\n",
    "plt.plot(x, y1, label = 'zhixian')\n",
    "plt.xlabel('x')\n",
    "plt.ylabel('f(x)')\n",
    "\n",
    "plt.axvline(x=5, ymax=0.75/plt.ylim()[1], color='gray', linestyle='--')\n",
    "plt.axhline(y=0.75, xmax=5/plt.xlim()[1], color='gray', linestyle='--')\n",
    "\n",
    "plt.scatter([5], [0.75], color='red')\n",
    "plt.title('diff')\n",
    "plt.legend()\n",
    "plt.show()"
   ]
  },
  {
   "cell_type": "markdown",
   "metadata": {},
   "source": [
    "## 4.3.3 偏导数"
   ]
  },
  {
   "cell_type": "code",
   "execution_count": null,
   "metadata": {},
   "outputs": [],
   "source": [
    "def function_2(x):\n",
    "    return np.sum(x**2, axis=0)\n",
    "\n",
    "\n",
    "x0 = np.linspace(-5, 5, 100)\n",
    "x1 = np.linspace(-5, 5, 100)\n",
    "# print(f'x0: {x0}')\n",
    "# print(f'x0: {x1}')\n",
    "x0, x1 = np.meshgrid(x0, x1)\n",
    "z = function_2(np.array([x0, x1]))\n",
    "print(z.shape)\n",
    "\n",
    "# 创建图形\n",
    "fig = plt.figure()\n",
    "ax = fig.add_subplot(111, projection='3d')\n",
    "\n",
    "# 绘制三维曲面图\n",
    "ax.plot_surface(x0, x1, z, cmap='viridis')\n"
   ]
  },
  {
   "cell_type": "code",
   "execution_count": null,
   "metadata": {},
   "outputs": [],
   "source": [
    "import numpy as np\n",
    "\n",
    "# 定义函数\n",
    "def function_2(x):\n",
    "    return np.sum(x**2, axis=1)\n",
    "\n",
    "# 创建一个三维数组\n",
    "# 假设我们有两个二维矩阵，每个矩阵的形状为 (3, 3)\n",
    "x0 = np.array([[1, 2, 3], [4, 5, 6], [7, 8, 9]])\n",
    "x1 = np.array([[9, 8, 7], [6, 5, 4], [3, 2, 1]])\n",
    "\n",
    "# 将两个二维矩阵组合成一个三维数组\n",
    "a = np.array([x0, x1])\n",
    "\n",
    "# 打印三维数组\n",
    "print(\"Three-dimensional array a:\")\n",
    "print(a)\n",
    "\n",
    "# 使用 function_2 计算每个位置的平方和\n",
    "z = function_2(a)\n",
    "\n",
    "# 打印结果\n",
    "print(\"Result of function_2(a):\")\n",
    "print(z)\n"
   ]
  },
  {
   "cell_type": "code",
   "execution_count": null,
   "metadata": {},
   "outputs": [],
   "source": [
    "import numpy as np\n",
    "import matplotlib.pyplot as plt\n",
    "import matplotlib.patches as mpatches\n",
    "from matplotlib import hatch\n",
    "\n",
    "# 数据定义\n",
    "data = np.array([[20.2, 22.4, 30.2],\n",
    "                 [22.5, 27.3, 35.2],\n",
    "                 [25.7, 29.1, 38.9]])\n",
    "\n",
    "X = np.array([2, 3, 4])  # X轴的位置\n",
    "bar_width = 0.3  # 柱子的宽度\n",
    "colors = [(240/255, 150/255, 150/255), \n",
    "          (150/255, 240/255, 50/255), \n",
    "          (50/255, 150/255, 240/255)]\n",
    "hatches = ['xx', '//', '\\\\']  # 纹理填充模式\n",
    "\n",
    "fig, ax = plt.subplots()\n",
    "bars = []\n",
    "\n",
    "for i in range(data.shape[1]):\n",
    "    bar = ax.bar(X + i * bar_width - bar_width, data[:, i], width=bar_width, \n",
    "                 color=colors[i], edgecolor='k', hatch=hatches[i], linewidth=1)\n",
    "    bars.append(bar)\n",
    "\n",
    "# 绘制图例\n",
    "legend_labels = ['DM-MATD3', 'MATD3', 'MADDPG']\n",
    "legend_patches = [mpatches.Patch(facecolor=colors[i], edgecolor='k', hatch=hatches[i], label=legend_labels[i])\n",
    "                   for i in range(len(legend_labels))]\n",
    "ax.legend(handles=legend_patches, loc='upper left', fontsize=11)\n",
    "\n",
    "# 设置坐标轴标签\n",
    "ax.set_xlabel('The offloaded task size (MB)', fontsize=11)\n",
    "ax.set_ylabel('Average system energy consumption', fontsize=11)\n",
    "ax.set_ylim(0, 50)\n",
    "ax.grid(True, linestyle='--', linewidth=0.5)\n",
    "\n",
    "# 显示图形\n",
    "plt.show()"
   ]
  },
  {
   "cell_type": "code",
   "execution_count": null,
   "metadata": {},
   "outputs": [],
   "source": []
  },
  {
   "cell_type": "code",
   "execution_count": null,
   "metadata": {},
   "outputs": [],
   "source": []
  },
  {
   "cell_type": "code",
   "execution_count": null,
   "metadata": {},
   "outputs": [],
   "source": []
  },
  {
   "cell_type": "code",
   "execution_count": null,
   "metadata": {},
   "outputs": [],
   "source": []
  },
  {
   "cell_type": "code",
   "execution_count": null,
   "metadata": {},
   "outputs": [],
   "source": []
  },
  {
   "cell_type": "code",
   "execution_count": null,
   "metadata": {},
   "outputs": [],
   "source": []
  },
  {
   "cell_type": "markdown",
   "metadata": {},
   "source": []
  },
  {
   "cell_type": "markdown",
   "metadata": {},
   "source": []
  },
  {
   "cell_type": "markdown",
   "metadata": {},
   "source": []
  }
 ],
 "metadata": {
  "kernelspec": {
   "display_name": "pytorch",
   "language": "python",
   "name": "python3"
  },
  "language_info": {
   "codemirror_mode": {
    "name": "ipython",
    "version": 3
   },
   "file_extension": ".py",
   "mimetype": "text/x-python",
   "name": "python",
   "nbconvert_exporter": "python",
   "pygments_lexer": "ipython3",
   "version": "3.11.9"
  }
 },
 "nbformat": 4,
 "nbformat_minor": 2
}
